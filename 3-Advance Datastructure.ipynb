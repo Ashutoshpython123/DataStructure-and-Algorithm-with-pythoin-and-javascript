{
 "cells": [
  {
   "cell_type": "markdown",
   "metadata": {},
   "source": [
    "## Advance Datastructure"
   ]
  },
  {
   "cell_type": "markdown",
   "metadata": {},
   "source": [
    "- Linear\n",
    " - Array\n",
    " - Linked List\n",
    " - Stack\n",
    " - Queue\n",
    " \n",
    "- Non Linear\n",
    " - Trees\n",
    " - Graph"
   ]
  },
  {
   "cell_type": "markdown",
   "metadata": {},
   "source": [
    "### # Linked List"
   ]
  },
  {
   "cell_type": "markdown",
   "metadata": {},
   "source": [
    "- linear linked list\n",
    "- double linked list\n",
    "- circular linked list"
   ]
  },
  {
   "cell_type": "markdown",
   "metadata": {},
   "source": [
    "#### linear linked list"
   ]
  },
  {
   "cell_type": "code",
   "execution_count": 22,
   "metadata": {},
   "outputs": [
    {
     "name": "stdout",
     "output_type": "stream",
     "text": [
      "1\n",
      "2\n",
      "3\n",
      "newnode\n",
      "4\n",
      "5\n",
      "end val\n",
      "another last\n"
     ]
    }
   ],
   "source": [
    "class Node:\n",
    "    def __init__(self, item):\n",
    "        self.item = item\n",
    "        self.next = None\n",
    "\n",
    "class linkedlist:\n",
    "    def __init__(self):\n",
    "        self.head = None\n",
    "        \n",
    "    def show(self):\n",
    "        while self.head != None:\n",
    "            print(self.head.item)\n",
    "            self.head = self.head.next\n",
    "            \n",
    "    #insert at start\n",
    "    def insertAtStart(self, data):\n",
    "        node = Node(data)\n",
    "        node.next = self.head\n",
    "        self.head = node\n",
    "        \n",
    "    #insert at end\n",
    "    def insertAtEnd(self, data):\n",
    "        if self.head is None:\n",
    "            self.head = Node(data)\n",
    "            return\n",
    "    \n",
    "        b = True\n",
    "        last = self.head\n",
    "        \n",
    "        while b:\n",
    "            if last.next == None:\n",
    "                last.next = Node(data)\n",
    "                b = False\n",
    "            else:\n",
    "                last = last.next\n",
    "    \n",
    "    #insert a node after a given node\n",
    "    def insertAfter(self, given_node, data):\n",
    "        newNode = Node(data)\n",
    "        newNode.next = given_node.next\n",
    "        given_node.next = newNode\n",
    "        \n",
    "    #remove a node from linkedlist\n",
    "    def deleteNode(self, data):\n",
    "        node = Node(data)\n",
    "        if self.head.item == data:\n",
    "            self.head = self.head.next\n",
    "            return\n",
    "        travers = self.head\n",
    "        while (travers.next):\n",
    "            if travers.next.item == node.item:\n",
    "                travers.next = travers.next.next\n",
    "                return \n",
    "            else:\n",
    "                travers = travers.next\n",
    "                \n",
    "        \n",
    "\n",
    "\n",
    "l_l = linkedlist()\n",
    "l_l.head = Node(1)\n",
    "second = Node(2)\n",
    "third = Node(3)\n",
    "fourth = Node(4)\n",
    "    \n",
    "l_l.head.next = second\n",
    "second.next = third\n",
    "third.next = fourth\n",
    "\n",
    "l_l.insertAtStart('first')\n",
    "l_l.insertAtStart('Ashutosh')\n",
    "l_l.insertAtEnd('end val')\n",
    "l_l.insertAtEnd('another last')\n",
    "l_l.insertAfter(fourth,5)\n",
    "l_l.insertAfter(third,'newnode')\n",
    "\n",
    "l_l.deleteNode('Ashutosh')\n",
    "l_l.deleteNode('first')\n",
    "l_l.show()"
   ]
  },
  {
   "cell_type": "code",
   "execution_count": null,
   "metadata": {},
   "outputs": [],
   "source": []
  },
  {
   "cell_type": "code",
   "execution_count": null,
   "metadata": {},
   "outputs": [],
   "source": []
  },
  {
   "cell_type": "markdown",
   "metadata": {},
   "source": [
    "#### double linked list"
   ]
  },
  {
   "cell_type": "code",
   "execution_count": null,
   "metadata": {},
   "outputs": [],
   "source": []
  },
  {
   "cell_type": "code",
   "execution_count": null,
   "metadata": {},
   "outputs": [],
   "source": []
  },
  {
   "cell_type": "code",
   "execution_count": null,
   "metadata": {},
   "outputs": [],
   "source": []
  },
  {
   "cell_type": "code",
   "execution_count": null,
   "metadata": {},
   "outputs": [],
   "source": []
  },
  {
   "cell_type": "code",
   "execution_count": null,
   "metadata": {},
   "outputs": [],
   "source": []
  },
  {
   "cell_type": "code",
   "execution_count": null,
   "metadata": {},
   "outputs": [],
   "source": []
  },
  {
   "cell_type": "markdown",
   "metadata": {},
   "source": [
    "#### circular linked list"
   ]
  },
  {
   "cell_type": "code",
   "execution_count": null,
   "metadata": {},
   "outputs": [],
   "source": []
  },
  {
   "cell_type": "code",
   "execution_count": null,
   "metadata": {},
   "outputs": [],
   "source": []
  },
  {
   "cell_type": "code",
   "execution_count": null,
   "metadata": {},
   "outputs": [],
   "source": []
  },
  {
   "cell_type": "code",
   "execution_count": null,
   "metadata": {},
   "outputs": [],
   "source": []
  },
  {
   "cell_type": "code",
   "execution_count": null,
   "metadata": {},
   "outputs": [],
   "source": []
  },
  {
   "cell_type": "code",
   "execution_count": null,
   "metadata": {},
   "outputs": [],
   "source": []
  },
  {
   "cell_type": "code",
   "execution_count": null,
   "metadata": {},
   "outputs": [],
   "source": []
  },
  {
   "cell_type": "markdown",
   "metadata": {},
   "source": [
    "### # Stack"
   ]
  },
  {
   "cell_type": "code",
   "execution_count": 33,
   "metadata": {},
   "outputs": [],
   "source": [
    "class Stack:\n",
    "    def __init__(self):\n",
    "        self.stack = []\n",
    "        \n",
    "    def add(self, data):\n",
    "        if data not in self.stack:\n",
    "            self.stack.append(data)\n",
    "            return True\n",
    "        else:\n",
    "            return False\n",
    "    def remove(self):\n",
    "        if len(self.stack) <= 0:\n",
    "            return 'stack is empty'\n",
    "        else:\n",
    "            self.stack.pop()\n",
    "    \n",
    "    def peek(self):\n",
    "        return self.stack[-1]"
   ]
  },
  {
   "cell_type": "code",
   "execution_count": 34,
   "metadata": {},
   "outputs": [
    {
     "name": "stdout",
     "output_type": "stream",
     "text": [
      "stack is empty\n"
     ]
    },
    {
     "data": {
      "text/plain": [
       "[0, 1, 2, 3, 4]"
      ]
     },
     "execution_count": 34,
     "metadata": {},
     "output_type": "execute_result"
    }
   ],
   "source": [
    "st = Stack()\n",
    "print(st.remove())\n",
    "for i in range(5):\n",
    "    st.add(i)\n",
    "st.stack"
   ]
  },
  {
   "cell_type": "code",
   "execution_count": 30,
   "metadata": {},
   "outputs": [
    {
     "data": {
      "text/plain": [
       "[0, 1, 2, 3]"
      ]
     },
     "execution_count": 30,
     "metadata": {},
     "output_type": "execute_result"
    }
   ],
   "source": [
    "st.remove()\n",
    "st.stack"
   ]
  },
  {
   "cell_type": "code",
   "execution_count": 35,
   "metadata": {},
   "outputs": [
    {
     "data": {
      "text/plain": [
       "4"
      ]
     },
     "execution_count": 35,
     "metadata": {},
     "output_type": "execute_result"
    }
   ],
   "source": [
    "st.peek()"
   ]
  },
  {
   "cell_type": "code",
   "execution_count": null,
   "metadata": {},
   "outputs": [],
   "source": []
  },
  {
   "cell_type": "markdown",
   "metadata": {},
   "source": [
    "### # Queue"
   ]
  },
  {
   "cell_type": "code",
   "execution_count": 36,
   "metadata": {},
   "outputs": [],
   "source": [
    "#item added from one end and remove from other end\n",
    "class Queue:\n",
    "    def __init__(self):\n",
    "        self.queue = []\n",
    "        \n",
    "    def add(self, data):\n",
    "        if data not in self.queue:\n",
    "            return self.queue.insert(0,data)\n",
    "        return False\n",
    "    \n",
    "    def size(self):\n",
    "        return len(self.queue)\n",
    "    \n",
    "    def remove(self):\n",
    "        if len(self.queue) > 0:\n",
    "            return self.queue.pop()\n",
    "        return 'queue is empty'"
   ]
  },
  {
   "cell_type": "code",
   "execution_count": 38,
   "metadata": {},
   "outputs": [
    {
     "name": "stdout",
     "output_type": "stream",
     "text": [
      "queue is empty\n",
      "size of queue :  5\n",
      "queue :  [4, 3, 2, 1, 0]\n"
     ]
    }
   ],
   "source": [
    "q = Queue()\n",
    "print(q.remove())\n",
    "for i in range(5):\n",
    "    q.add(i)\n",
    "print('size of queue : ',q.size())\n",
    "print('queue : ',q.queue)"
   ]
  },
  {
   "cell_type": "code",
   "execution_count": 39,
   "metadata": {},
   "outputs": [
    {
     "data": {
      "text/plain": [
       "0"
      ]
     },
     "execution_count": 39,
     "metadata": {},
     "output_type": "execute_result"
    }
   ],
   "source": [
    "q.remove()"
   ]
  },
  {
   "cell_type": "code",
   "execution_count": 40,
   "metadata": {},
   "outputs": [
    {
     "data": {
      "text/plain": [
       "[4, 3, 2, 1]"
      ]
     },
     "execution_count": 40,
     "metadata": {},
     "output_type": "execute_result"
    }
   ],
   "source": [
    "q.queue"
   ]
  },
  {
   "cell_type": "code",
   "execution_count": null,
   "metadata": {},
   "outputs": [],
   "source": []
  },
  {
   "cell_type": "markdown",
   "metadata": {},
   "source": [
    "### #Dequeue"
   ]
  },
  {
   "cell_type": "code",
   "execution_count": 42,
   "metadata": {},
   "outputs": [
    {
     "name": "stdout",
     "output_type": "stream",
     "text": [
      "Appended at right - \n",
      "deque(['Mon', 'Tue', 'Wed', 'Thu'])\n",
      "Appended at right at left is - \n",
      "deque(['Sun', 'Mon', 'Tue', 'Wed', 'Thu'])\n",
      "Deleting from right - \n",
      "deque(['Sun', 'Mon', 'Tue', 'Wed'])\n",
      "Deleting from left - \n",
      "deque(['Mon', 'Tue', 'Wed'])\n"
     ]
    }
   ],
   "source": [
    "#A double-ended queue, or deque, supports adding and removing elements from either end.\n",
    "import collections\n",
    "\n",
    "DoubleEnded = collections.deque([\"Mon\",\"Tue\",\"Wed\"])\n",
    "\n",
    "DoubleEnded.append(\"Thu\")\n",
    "\n",
    "print (\"Appended at right - \")\n",
    "print (DoubleEnded)\n",
    "\n",
    "DoubleEnded.appendleft(\"Sun\")\n",
    "\n",
    "print (\"Appended at right at left is - \")\n",
    "print (DoubleEnded)\n",
    "\n",
    "DoubleEnded.pop()\n",
    "\n",
    "print (\"Deleting from right - \")\n",
    "print (DoubleEnded)\n",
    "\n",
    "DoubleEnded.popleft()\n",
    "\n",
    "print (\"Deleting from left - \")\n",
    "print (DoubleEnded)"
   ]
  },
  {
   "cell_type": "code",
   "execution_count": null,
   "metadata": {},
   "outputs": [],
   "source": []
  },
  {
   "cell_type": "markdown",
   "metadata": {},
   "source": [
    "### # Trees"
   ]
  },
  {
   "cell_type": "markdown",
   "metadata": {},
   "source": [
    "#### Binary Tree"
   ]
  },
  {
   "cell_type": "markdown",
   "metadata": {},
   "source": [
    "- One node is marked as Root node.\n",
    "- Every node other than the root is associated with one parent node.\n",
    "- Each node can have an arbiatry number of chid node."
   ]
  },
  {
   "cell_type": "code",
   "execution_count": 43,
   "metadata": {},
   "outputs": [],
   "source": [
    "class Node:\n",
    "    def __init__(self, data):\n",
    "        self.left = None\n",
    "        self.right = None\n",
    "        self.data = data\n",
    "        \n",
    "    def show(self):\n",
    "        print(self.data)"
   ]
  },
  {
   "cell_type": "code",
   "execution_count": 44,
   "metadata": {},
   "outputs": [
    {
     "name": "stdout",
     "output_type": "stream",
     "text": [
      "10\n"
     ]
    }
   ],
   "source": [
    "root = Node(10)\n",
    "root.show()"
   ]
  },
  {
   "cell_type": "code",
   "execution_count": null,
   "metadata": {},
   "outputs": [],
   "source": []
  },
  {
   "cell_type": "markdown",
   "metadata": {},
   "source": [
    "### # Graphs"
   ]
  },
  {
   "cell_type": "code",
   "execution_count": 4,
   "metadata": {},
   "outputs": [
    {
     "name": "stdout",
     "output_type": "stream",
     "text": [
      "graph\n"
     ]
    }
   ],
   "source": [
    "print('graph')"
   ]
  },
  {
   "cell_type": "code",
   "execution_count": null,
   "metadata": {},
   "outputs": [],
   "source": []
  }
 ],
 "metadata": {
  "kernelspec": {
   "display_name": "Python 3",
   "language": "python",
   "name": "python3"
  },
  "language_info": {
   "codemirror_mode": {
    "name": "ipython",
    "version": 3
   },
   "file_extension": ".py",
   "mimetype": "text/x-python",
   "name": "python",
   "nbconvert_exporter": "python",
   "pygments_lexer": "ipython3",
   "version": "3.6.6"
  }
 },
 "nbformat": 4,
 "nbformat_minor": 4
}
